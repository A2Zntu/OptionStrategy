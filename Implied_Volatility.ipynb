{
 "cells": [
  {
   "cell_type": "code",
   "execution_count": 1,
   "metadata": {},
   "outputs": [],
   "source": [
    "import pandas as pd\n",
    "import numpy as np\n",
    "from datetime import date, time, datetime\n",
    "from py_vollib.black_scholes_merton.implied_volatility import implied_volatility as iv\n",
    "from math import exp, sqrt, log, fabs\n",
    "from statistics import mean\n",
    "import matplotlib.pyplot as plt\n",
    "from itertools import repeat\n",
    "import os"
   ]
  },
  {
   "cell_type": "code",
   "execution_count": 2,
   "metadata": {},
   "outputs": [
    {
     "data": {
      "text/plain": [
       "'C:\\\\Users\\\\User\\\\Documents\\\\GitHub\\\\OptionStrategy'"
      ]
     },
     "execution_count": 2,
     "metadata": {},
     "output_type": "execute_result"
    }
   ],
   "source": [
    "work_dir = os.getcwd()\n",
    "work_dir"
   ]
  },
  {
   "cell_type": "code",
   "execution_count": 3,
   "metadata": {},
   "outputs": [],
   "source": [
    "def df_generate(product, date):\n",
    "    # read the csv data\n",
    "    csvName = product + \"_\" + date + '.csv'\n",
    "    Path_default_readcsv = os.path.join(work_dir, 'Data', csvName)\n",
    "    df = pd.read_csv(Path_default_readcsv, encoding = 'cp950')\n",
    "    \n",
    "    return df"
   ]
  },
  {
   "cell_type": "code",
   "execution_count": 4,
   "metadata": {},
   "outputs": [],
   "source": [
    "def Flag_Moneyness(df, S, code):\n",
    "    # append a column of ITM/OTM toward the put call dataframe\n",
    "    if code == 'Call':\n",
    "        df[\"Moneyness\"] = [\"OTM\" if k > S else \"ITM\" for k in df[\"履約價\"]]\n",
    "    elif code == 'Put':\n",
    "        df[\"Moneyness\"] = [\"OTM\" if k < S else \"ITM\" for k in df[\"履約價\"]]\n",
    "    else:\n",
    "        print(\"Code Type Error\")\n",
    "    return df"
   ]
  },
  {
   "cell_type": "code",
   "execution_count": 5,
   "metadata": {},
   "outputs": [],
   "source": [
    "def todayStockPrice(date):\n",
    "    product = 'MTX'\n",
    "    csvName = product + \"_\" + date + '.csv'\n",
    "    Path_default_readcsv = os.path.join(work_dir, 'Data', csvName)\n",
    "    df = pd.read_csv(Path_default_readcsv, encoding = 'cp950')\n",
    "    S = float(df[\"最後成交價\"][0])\n",
    "    return S"
   ]
  },
  {
   "cell_type": "code",
   "execution_count": 6,
   "metadata": {},
   "outputs": [],
   "source": [
    "def IV_List(df, Stock, d, flag):\n",
    "    # Write the Implied Volatility to the dataframe\n",
    "    \n",
    "    start_date = date(2020, int(d[1]), int(d[2:]))\n",
    "    end_date = date(2020, 2, 19) # the delivery date in Feb. \n",
    "    \n",
    "    S = float(Stock)\n",
    "    r = 0\n",
    "    q = 0\n",
    "    t = np.busday_count(start_date, end_date)/252    \n",
    "    \n",
    "    list_IV = []\n",
    "    \n",
    "    #record the NA IV\n",
    "    volumeNA = 0\n",
    "    boundaryNA = 0\n",
    "    NBBONA = 0\n",
    "    for i in range(len(df)):\n",
    "        if df[\"*一般交易時段成交量\"][i] == 0: # elimanate the option with volume = 0\n",
    "            list_IV.append(\"-\")\n",
    "            volumeNA += 1\n",
    "        elif df[\"最後最佳買價\"][i] == \"-\" or df[\"最後最佳賣價\"][i] == \"-\":\n",
    "            list_IV.append(\"-\")\n",
    "            NBBONA += 1\n",
    "        else:\n",
    "            K = float(df[\"履約價\"][i])\n",
    "            # two cases\n",
    "            if flag == \"Call\":\n",
    "                call_price = (float(df[\"最後最佳買價\"][i]) + float(df[\"最後最佳賣價\"][i]))/2\n",
    "                intrinsic_c = fabs(max(S - K, 0.0))\n",
    "                if call_price < intrinsic_c or call_price >= S: #eliminate the violation of option pricing\n",
    "                    list_IV.append(\"-\")\n",
    "                    boundaryNA += 1\n",
    "                else:\n",
    "                    call_iv = iv(price = call_price, \n",
    "                             flag = 'c', \n",
    "                             S = Stock, \n",
    "                             K = K, \n",
    "                             t = t, \n",
    "                             r = r,\n",
    "                             q = q)\n",
    "                    list_IV.append(call_iv)\n",
    "                    \n",
    "            elif flag == \"Put\":\n",
    "                put_price = (float(df[\"最後最佳買價\"][i]) + float(df[\"最後最佳賣價\"][i]))/2\n",
    "                intrinsic_p = fabs(max(K - S, 0.0))\n",
    "                if put_price < intrinsic_p or put_price >= K: #eliminate the violation of option pricing\n",
    "                    list_IV.append(\"-\")\n",
    "                    boundaryNA += 1\n",
    "                else:\n",
    "                    put_iv = iv(price = put_price, \n",
    "                             flag = 'p', \n",
    "                             S = S, \n",
    "                             K = K, \n",
    "                             t = t, \n",
    "                             r = r,\n",
    "                             q = q)\n",
    "                    list_IV.append(put_iv)\n",
    "                    \n",
    "    categoryNA = [volumeNA, boundaryNA, NBBONA]\n",
    "    return list_IV, categoryNA"
   ]
  },
  {
   "cell_type": "code",
   "execution_count": 7,
   "metadata": {},
   "outputs": [],
   "source": [
    "def moneyness_list(S, gapType, gapNum):\n",
    "    # Find out the list of OTM/ITM stock prices\n",
    "    if gapType == \"month\":\n",
    "        gap = 100\n",
    "    elif gapType == \"week\":\n",
    "        gap = 50\n",
    "    else:\n",
    "        print(\"Option Type error\")\n",
    "        \n",
    "    S_list = []\n",
    "    S_floor = int(S - S%gap)\n",
    "    S_ceil = int(S_floor + gap)\n",
    "    S_list.append(S_floor)\n",
    "    S_list.append(S_ceil)\n",
    "    \n",
    "    for i in range(1, gapNum):\n",
    "        S_list.append(int(S_floor - gap*i))\n",
    "        S_list.append(int(S_ceil + gap*i))\n",
    "    S_list.sort()\n",
    "    \n",
    "    return S_list"
   ]
  },
  {
   "cell_type": "code",
   "execution_count": 8,
   "metadata": {},
   "outputs": [],
   "source": [
    "def plot_IV(df, S, date):\n",
    "    # plot the Implied Volatility\n",
    "    K = list(df[\"履約價\"])\n",
    "    IV = list(df[\"IV\"])\n",
    "    plt.style.use('ggplot')\n",
    "    meanIV = mean(IV)\n",
    "    plt.figure(figsize=(10,5))\n",
    "    plt.plot(K, IV, marker='o')\n",
    "    plt.axvline(x = S, linestyle = 'dashed', color = 'black')\n",
    "    plt.text(S, meanIV, str(S))\n",
    "    for a, b in zip(K, IV): \n",
    "        plt.text(a, b, str(round(b, 3)))\n",
    "    title_name = \"Implied Volatility_\" + date\n",
    "    plt.title(title_name)\n",
    "    plt.xlabel('Excercise Price', fontsize=14)\n",
    "    plt.ylabel('Implied Volatility', fontsize=14)\n",
    "    plt.savefig(os.path.join(work_dir, 'Graph', title_name))\n",
    "    plt.show()"
   ]
  },
  {
   "cell_type": "code",
   "execution_count": 9,
   "metadata": {},
   "outputs": [],
   "source": [
    "def combine_OTM(df_call, df_put, list_StockPrices):\n",
    "    # cutted the dataframe and combine with certain OTM options \n",
    "    df_call_cut = df_call[df_call['履約價'].isin(list_StockPrices)]\n",
    "    df_put_cut = df_put[df_put['履約價'].isin(list_StockPrices)]\n",
    "    df1 = df_put_cut[df_put_cut.Moneyness == 'OTM']\n",
    "    df2 = df_call_cut[df_call_cut.Moneyness == 'OTM']\n",
    "    df_OTM = df1.append(df2)\n",
    "    \n",
    "    return df_OTM"
   ]
  },
  {
   "cell_type": "code",
   "execution_count": null,
   "metadata": {},
   "outputs": [],
   "source": []
  }
 ],
 "metadata": {
  "kernelspec": {
   "display_name": "Python 3",
   "language": "python",
   "name": "python3"
  },
  "language_info": {
   "codemirror_mode": {
    "name": "ipython",
    "version": 3
   },
   "file_extension": ".py",
   "mimetype": "text/x-python",
   "name": "python",
   "nbconvert_exporter": "python",
   "pygments_lexer": "ipython3",
   "version": "3.7.6"
  }
 },
 "nbformat": 4,
 "nbformat_minor": 4
}
