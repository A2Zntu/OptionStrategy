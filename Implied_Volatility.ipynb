{
 "cells": [
  {
   "cell_type": "code",
   "execution_count": 104,
   "metadata": {},
   "outputs": [],
   "source": [
    "import pandas as pd\n",
    "import numpy as np\n",
    "from datetime import date, time, datetime\n",
    "from py_vollib.black_scholes_merton.implied_volatility import implied_volatility as iv\n",
    "from math import exp, sqrt, log, fabs\n",
    "import matplotlib.pyplot as plt\n",
    "from itertools import repeat\n",
    "import os"
   ]
  },
  {
   "cell_type": "code",
   "execution_count": 105,
   "metadata": {},
   "outputs": [
    {
     "data": {
      "text/plain": [
       "'C:\\\\Users\\\\User\\\\Documents\\\\GitHub\\\\OptionStrategy'"
      ]
     },
     "execution_count": 105,
     "metadata": {},
     "output_type": "execute_result"
    }
   ],
   "source": [
    "work_dir = os.getcwd()\n",
    "work_dir"
   ]
  },
  {
   "cell_type": "code",
   "execution_count": 106,
   "metadata": {},
   "outputs": [],
   "source": [
    "def df_generate(product, date):\n",
    "    # read the csv data\n",
    "    csvName = product + \"_\" + date + '.csv'\n",
    "    Path_default_readcsv = os.path.join(work_dir, 'Data', csvName)\n",
    "    df = pd.read_csv(Path_default_readcsv, encoding = 'cp950')\n",
    "    \n",
    "    return df"
   ]
  },
  {
   "cell_type": "code",
   "execution_count": 107,
   "metadata": {},
   "outputs": [],
   "source": [
    "def Flag_Moneyness(df, S, code):\n",
    "    # append a column of ITM/OTM toward the put call dataframe\n",
    "    if code == 'call':\n",
    "        df[\"Moneyness\"] = [\"OTM\" if k > S else \"ITM\" for k in df[\"履約價\"]]\n",
    "    else:\n",
    "        df[\"Moneyness\"] = [\"OTM\" if k < S else \"ITM\" for k in df[\"履約價\"]]\n",
    "    return df"
   ]
  },
  {
   "cell_type": "code",
   "execution_count": 108,
   "metadata": {},
   "outputs": [],
   "source": [
    "def todayStockPrice(date):\n",
    "    product = 'MTX'\n",
    "    csvName = product + \"_\" + date + '.csv'\n",
    "    Path_default_readcsv = os.path.join(work_dir, 'Data', csvName)\n",
    "    df = pd.read_csv(Path_default_readcsv, encoding = 'cp950')\n",
    "    S = float(df[\"最後成交價\"][0])\n",
    "    return S"
   ]
  },
  {
   "cell_type": "code",
   "execution_count": 109,
   "metadata": {},
   "outputs": [],
   "source": [
    "def IV_List(df, Stock, d, flag):\n",
    "    # Write the Implied Volatility to the dataframe\n",
    "    \n",
    "    start_date = date(2020, int(d[1]), int(d[2:]))\n",
    "    end_date = date(2020, 2, 19) # the delivery date in Feb. \n",
    "    \n",
    "    S = float(Stock)\n",
    "    r = 0\n",
    "    q = 0\n",
    "    t = np.busday_count(start_date, end_date)/252    \n",
    "    \n",
    "    list_IV = []\n",
    "    \n",
    "    #record the NA IV\n",
    "    volumeNA = 0\n",
    "    boundaryNA = 0\n",
    "    NBBONA = 0\n",
    "    for i in range(len(df)):\n",
    "        if df[\"*一般交易時段成交量\"][i] == 0: # elimanate the option with volume = 0\n",
    "            list_IV.append(\"-\")\n",
    "            volumeNA += 1\n",
    "        elif df[\"最後最佳買價\"][i] == \"-\" or df[\"最後最佳賣價\"][i] == \"-\":\n",
    "            list_IV.append(\"-\")\n",
    "            NBBONA += 1\n",
    "        else:\n",
    "            K = float(df[\"履約價\"][i])\n",
    "            # two cases\n",
    "            if flag == \"Call\":\n",
    "                call_price = (float(df[\"最後最佳買價\"][i]) + float(df[\"最後最佳賣價\"][i]))/2\n",
    "                intrinsic_c = fabs(max(S - K, 0.0))\n",
    "                if call_price < intrinsic_c or call_price >= S: #eliminate the violation of option pricing\n",
    "                    list_IV.append(\"-\")\n",
    "                    boundaryNA += 1\n",
    "                else:\n",
    "                    call_iv = iv(price = call_price, \n",
    "                             flag = 'c', \n",
    "                             S = Stock, \n",
    "                             K = K, \n",
    "                             t = t, \n",
    "                             r = r,\n",
    "                             q = q)\n",
    "                    list_IV.append(call_iv)\n",
    "                    \n",
    "            elif flag == \"Put\":\n",
    "                put_price = (float(df[\"最後最佳買價\"][i]) + float(df[\"最後最佳賣價\"][i]))/2\n",
    "                intrinsic_p = fabs(max(K - S, 0.0))\n",
    "                if put_price < intrinsic_p or put_price >= K: #eliminate the violation of option pricing\n",
    "                    list_IV.append(\"-\")\n",
    "                    boundaryNA += 1\n",
    "                else:\n",
    "                    put_iv = iv(price = put_price, \n",
    "                             flag = 'p', \n",
    "                             S = S, \n",
    "                             K = K, \n",
    "                             t = t, \n",
    "                             r = r,\n",
    "                             q = q)\n",
    "                    list_IV.append(put_iv)\n",
    "                    \n",
    "    categoryNA = [volumeNA, boundaryNA, NBBONA]\n",
    "    return list_IV, categoryNA"
   ]
  },
  {
   "cell_type": "code",
   "execution_count": 116,
   "metadata": {},
   "outputs": [],
   "source": [
    "if __name__ ==  '__main__':\n",
    "    date_ = '0130'\n",
    "    S = todayStockPrice(date = date_ )\n",
    "    \n",
    "    df = df_generate(product = 'TXO', date = date_ )\n",
    "    df_put = df[df.買賣權 == 'Put'].reset_index(drop=True)\n",
    "    df_call = df[df.買賣權 == 'Call'].reset_index(drop=True)\n",
    "    \n",
    "    df_put = Flag_Moneyness(df_put, S = S, code = 'Put')\n",
    "    list_IV, categoryNAPut = IV_List(df = df_put, Stock = S, d = date_ , flag = 'Put')\n",
    "    df_put[\"IV\"] = list_IV\n",
    "    \n",
    "    df_call = Flag_Moneyness(df_call, S = S, code = 'Call')\n",
    "    list_IV, categoryNACall = IV_List(df = df_call, Stock = S, d = date_ , flag = 'Call')\n",
    "    df_call[\"IV\"] = list_IV"
   ]
  },
  {
   "cell_type": "code",
   "execution_count": null,
   "metadata": {},
   "outputs": [],
   "source": []
  }
 ],
 "metadata": {
  "kernelspec": {
   "display_name": "Python 3",
   "language": "python",
   "name": "python3"
  },
  "language_info": {
   "codemirror_mode": {
    "name": "ipython",
    "version": 3
   },
   "file_extension": ".py",
   "mimetype": "text/x-python",
   "name": "python",
   "nbconvert_exporter": "python",
   "pygments_lexer": "ipython3",
   "version": "3.7.6"
  }
 },
 "nbformat": 4,
 "nbformat_minor": 4
}
