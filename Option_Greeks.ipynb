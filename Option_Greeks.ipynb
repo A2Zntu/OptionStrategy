{
 "cells": [
  {
   "cell_type": "code",
   "execution_count": 89,
   "metadata": {},
   "outputs": [],
   "source": [
    "from math import log, pow, exp, sqrt, fabs, e\n",
    "from scipy.stats import norm\n",
    "import pandas as pd\n",
    "from datetime import date\n",
    "import numpy as np\n",
    "from py_vollib.black_scholes.greeks.analytical import delta, gamma, vega, theta"
   ]
  },
  {
   "cell_type": "code",
   "execution_count": 103,
   "metadata": {},
   "outputs": [],
   "source": [
    "class Option:\n",
    "    \"\"\"\n",
    "    Calculate the Greeks letter for Option \n",
    "    \"\"\"\n",
    "    def __init__(self, right, s, k, eval_date, exp_date, price = None, rf = 0.0, vol = 0.3,\n",
    "                 div = 0):\n",
    "        self.k = float(k)\n",
    "        self.s = float(s)\n",
    "        self.rf = float(rf)\n",
    "        self.vol = float(vol)\n",
    "        self.eval_date = eval_date\n",
    "        self.exp_date = exp_date\n",
    "        self.t = self.calculate_t()\n",
    "        self.price = price\n",
    "        self.right = right   ## 'C' or 'P'\n",
    "        self.div = div\n",
    "        self.d1 = (log(self.s/self.k) + (self.rf + self.div + pow(self.vol, 2)/2 ) * self.t) / (self.vol * sqrt(self.t))\n",
    "        self.d2 = self.d1 - self.vol * sqrt(self.t)\n",
    "\n",
    "    def calculate_t(self):\n",
    "        if isinstance(self.eval_date, str):\n",
    "            if '/' in self.eval_date:\n",
    "                (day, month, year) = self.eval_date.split('/')\n",
    "            else:\n",
    "                (day, month, year) = self.eval_date[6:8], self.eval_date[4:6], self.eval_date[0:4]\n",
    "            d0 = date(int(year), int(month), int(day))\n",
    "        elif type(self.eval_date)==float or type(self.eval_date)==long or type(self.eval_date)==np.float64:\n",
    "            (day, month, year) = (str(self.eval_date)[6:8], str(self.eval_date)[4:6], str(self.eval_date)[0:4])\n",
    "            d0 = date(int(year), int(month), int(day))\n",
    "        else:\n",
    "            d0 = self.eval_date \n",
    "\n",
    "        if isinstance(self.exp_date, str):\n",
    "            if '/' in self.exp_date:\n",
    "                (day, month, year) = self.exp_date.split('/')\n",
    "            else:\n",
    "                (day, month, year) = self.exp_date[6:8], self.exp_date[4:6], self.exp_date[0:4]\n",
    "            d1 = date(int(year), int(month), int(day))\n",
    "        elif type(self.exp_date)==float or type(self.exp_date)==long or type(self.exp_date)==np.float64:\n",
    "            (day, month, year) = (str(self.exp_date)[6:8], str(self.exp_date)[4:6], str(self.exp_date)[0:4])\n",
    "            d1 = date(int(year), int(month), int(day))\n",
    "        else:\n",
    "            d1 = self.exp_date\n",
    "\n",
    "        t = np.busday_count(d0, d1)/252\n",
    "        if t < 0:\n",
    "            print(\"The input dates error!\")\n",
    "        return t\n",
    "    \n",
    "    def get_price(self):\n",
    "        d1 = self.d1\n",
    "        d2 = self.d2\n",
    "        if self.right == 'C':\n",
    "            self.calc_price = ( norm.cdf(d1) * self.s * exp(-self.div*self.t) - norm.cdf(d2) * self.k * exp( -self.rf * self.t ) )\n",
    "        elif self.right == 'P':\n",
    "            self.calc_price =  ( -norm.cdf(-d1) * self.s * exp(-self.div*self.t) + norm.cdf(-d2) * self.k * exp( -self.rf * self.t ))\n",
    "\n",
    "        \n",
    "    def get_delta(self):\n",
    "        if self.right == 'C':\n",
    "            self.delta = norm.cdf(self.d1)\n",
    "        elif self.right == 'P':\n",
    "            self.delta = -norm.cdf(-self.d1) \n",
    " \n",
    " \n",
    "    def get_theta(self):\n",
    "        \n",
    "        prob_density = norm.pdf(self.d1)\n",
    "        if self.right == 'C':\n",
    "            self.theta = (-self.vol * self.s * prob_density) / (2 * np.sqrt(self.t)) - self.rf * self.k * np.exp(-self.rf * self.t) * norm.cdf(self.d2)\n",
    "        elif self.right == 'P':    \n",
    "            self.theta = (-self.vol * self.s * prob_density) / (2 * np.sqrt(self.t)) + self.rf * self.k * np.exp(-self.rf * self.t) * norm.cdf(self.d2)\n",
    "        self.theta = self.theta/365\n",
    "        \n",
    "    def get_gamma(self):\n",
    "        self.gamma = e ** (-self.div * self.t) * norm.pdf(self.d1) / (self.s * self.vol* self.t ** 0.5)\n",
    "        \n",
    " \n",
    "    def get_vega(self):\n",
    "        prob_density = norm.pdf(self.d1)\n",
    "        print(\"self.d1:\", self.d1)\n",
    "        print(\"prob_density: \", prob_density)\n",
    "        self.vega = 0.01 * self.s * prob_density * np.sqrt(self.t)\n",
    "        \n",
    "\n",
    "    def get_all(self):\n",
    "        self.get_price()\n",
    "        self.get_delta()\n",
    "        self.get_theta()\n",
    "        self.get_gamma()\n",
    "        self.get_vega()\n",
    "        \n",
    "        return self.calc_price, self.delta, self.theta, self.gamma, self.vega\n",
    " "
   ]
  },
  {
   "cell_type": "code",
   "execution_count": 104,
   "metadata": {},
   "outputs": [
    {
     "name": "stdout",
     "output_type": "stream",
     "text": [
      "self.d1: 0.15407930548879584\n",
      "prob_density:  0.39423474429638583\n"
     ]
    }
   ],
   "source": [
    "if __name__ ==  '__main__':\n",
    "    s = 11368\n",
    "    k = 11300\n",
    "    exp_date = '20200219'\n",
    "    eval_date = '20200130'\n",
    "    rf = 0.0\n",
    "    vol = 0.193986\n",
    "    div = 0.0\n",
    "    right = 'P'\n",
    "    \n",
    "    opt = Option(s=s, k=k, eval_date=eval_date, exp_date=exp_date, rf=rf, vol=vol, right=right,\n",
    "                 div = div)\n",
    "    price, delta, theta, gamma, vega = opt.get_all()\n",
    "    "
   ]
  },
  {
   "cell_type": "code",
   "execution_count": 105,
   "metadata": {},
   "outputs": [
    {
     "name": "stdout",
     "output_type": "stream",
     "text": [
      "-------------- FIRST OPTION -------------------\n",
      "Price Put: 174.50020052127456\n",
      "Delta Put: -0.43877360262245524\n",
      "Theta Put: -5.052691025605864\n",
      "Gamma Put:0.0007584670108396254\n",
      "Vega Put:10.563375274195849\n"
     ]
    }
   ],
   "source": [
    "print(\"-------------- FIRST OPTION -------------------\")\n",
    "print(\"Price Put: \" + str(price))  \n",
    "print(\"Delta Put: \" + str(delta)) \n",
    "print(\"Theta Put: \" + str(theta)) \n",
    "print(\"Gamma Put:\" + str(gamma))   \n",
    "print(\"Vega Put:\" + str(vega))"
   ]
  },
  {
   "cell_type": "code",
   "execution_count": null,
   "metadata": {},
   "outputs": [],
   "source": []
  }
 ],
 "metadata": {
  "kernelspec": {
   "display_name": "Python 3",
   "language": "python",
   "name": "python3"
  },
  "language_info": {
   "codemirror_mode": {
    "name": "ipython",
    "version": 3
   },
   "file_extension": ".py",
   "mimetype": "text/x-python",
   "name": "python",
   "nbconvert_exporter": "python",
   "pygments_lexer": "ipython3",
   "version": "3.7.6"
  }
 },
 "nbformat": 4,
 "nbformat_minor": 4
}
